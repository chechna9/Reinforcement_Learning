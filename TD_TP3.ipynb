{
 "cells": [
  {
   "cell_type": "code",
   "execution_count": 1,
   "metadata": {},
   "outputs": [],
   "source": [
    "import numpy as np"
   ]
  },
  {
   "cell_type": "markdown",
   "metadata": {},
   "source": [
    "EX1"
   ]
  },
  {
   "cell_type": "code",
   "execution_count": 2,
   "metadata": {},
   "outputs": [],
   "source": [
    "#global variables \n",
    "gamma=0.9\n",
    "delta=10**(-10)\n",
    "\n",
    "rewards=[\n",
    "    [[-1,1],[-1/2,3/2]],\n",
    "    [[-2/3,5/4],[-1,1]],\n",
    "]\n",
    "\n",
    "transition=[\n",
    "    [[0.7,0.3],[0.8,0.2]],\n",
    "    [[0.9,0.1],[0.5,0.5]],\n",
    "]"
   ]
  },
  {
   "cell_type": "code",
   "execution_count": 44,
   "metadata": {},
   "outputs": [],
   "source": [
    "actions = [a1,a2] = [0,1]\n",
    "states = [s1,s2] = [0,1]\n",
    "\n",
    "actionSpace = np.shape(actions)\n",
    "stateSpace = np.shape(states)\n",
    "\n",
    "policy_1 = {\n",
    "    s1:(1,0),\n",
    "    s2:(1,0)\n",
    "}\n",
    "\n",
    "policy_2 = {\n",
    "    s1:(0.2,0.8),\n",
    "    s2:(0.5,0.5),\n",
    "}"
   ]
  },
  {
   "cell_type": "code",
   "execution_count": 26,
   "metadata": {},
   "outputs": [],
   "source": [
    "def getAction(policy, state):\n",
    "    return np.random.choice(actions, p=policy[state])\n"
   ]
  },
  {
   "cell_type": "code",
   "execution_count": 38,
   "metadata": {},
   "outputs": [
    {
     "data": {
      "text/plain": [
       "1"
      ]
     },
     "execution_count": 38,
     "metadata": {},
     "output_type": "execute_result"
    }
   ],
   "source": [
    "getAction(policy_2, s1)"
   ]
  },
  {
   "cell_type": "code",
   "execution_count": 40,
   "metadata": {},
   "outputs": [],
   "source": [
    "def policy_evaluation(policy):\n",
    "    valueFunction=np.zeros(stateSpace)\n",
    "    i=0\n",
    "    while True:\n",
    "        valueFunctionPrev=valueFunction.copy() \n",
    "        for s in states:\n",
    "            outerSum=0\n",
    "            for a in actions:\n",
    "                innerSum=0\n",
    "                for sN in states:\n",
    "                    innerSum+=transition[sN][a][s]*(rewards[sN][a][s]+gamma*valueFunctionPrev[sN])\n",
    "                outerSum+=policy[s][a]*innerSum\n",
    "            valueFunction[s]=outerSum\n",
    "        # print(\"valueFunctionPrev=\",valueFunctionPrev, \"   valueFunction=\",valueFunction)   \n",
    "        if (np.max(np.abs(valueFunctionPrev-valueFunction))<delta):\n",
    "            print(\"nb iteration=i\")\n",
    "            break\n",
    "        i+=1\n",
    "    return valueFunction"
   ]
  },
  {
   "cell_type": "code",
   "execution_count": 5,
   "metadata": {},
   "outputs": [],
   "source": [
    "def policyImprovement(v):\n",
    "    # qomputeQ(a|s)\n",
    "    q=np.zeros((states,actions))\n",
    "    for s in states:\n",
    "        for a in actions:\n",
    "            for sN in states:\n",
    "                q[s][a]+=transition[sN][a][s]*(rewards[sN][a][s]+gamma*v[sN])\n",
    "                \n",
    "    #  get a pilicyy by acting greedily\n",
    "    policy=np.zeros((states,actions))\n",
    "    for s in states:\n",
    "        maxQ = np.max(q[s])\n",
    "        argmaxQ = np.where(q[s]==maxQ)\n",
    "        for arg in argmaxQ[0]:\n",
    "            policy[s][arg]=1/len(argmaxQ[0])\n",
    "    return policy"
   ]
  },
  {
   "cell_type": "code",
   "execution_count": 47,
   "metadata": {},
   "outputs": [],
   "source": [
    "def policyIteration():\n",
    "    value = np.zeros(stateSpace)\n",
    "    i = 0\n",
    "    while True:\n",
    "        valueOld = value.copy()\n",
    "        for s in range(stateSpace):\n",
    "            value_action = np.zeros(actionSpace)\n",
    "            for a in range(actionSpace):\n",
    "                value_action[a] = np.sum(\n",
    "                    [transition[sN][a][s] * (rewards[sN][a][s] + gamma *valueOld[sN]) for sN in range(stateSpace)]\n",
    "                )\n",
    "            value[s] = value_action.max()\n",
    "        if np.max(np.abs(valueOld - value)) < delta:\n",
    "            print(f\"nb iteration={i}\")\n",
    "            break\n",
    "        i += 1\n",
    "    policy = np.array([0.,0.])\n",
    "    for s in range(stateSpace):\n",
    "        policy[s] = np.argmax([np.sum([transition[sN][a][s]*(rewards[sN][a][s]+gamma*valueOld[sN]) for sN in range(stateSpace)]) for a in range(actionSpace)])"
   ]
  },
  {
   "cell_type": "code",
   "execution_count": 48,
   "metadata": {},
   "outputs": [
    {
     "name": "stdout",
     "output_type": "stream",
     "text": [
      "[0. 0.]\n"
     ]
    }
   ],
   "source": [
    "policyIteration()"
   ]
  }
 ],
 "metadata": {
  "kernelspec": {
   "display_name": "base",
   "language": "python",
   "name": "python3"
  },
  "language_info": {
   "codemirror_mode": {
    "name": "ipython",
    "version": 3
   },
   "file_extension": ".py",
   "mimetype": "text/x-python",
   "name": "python",
   "nbconvert_exporter": "python",
   "pygments_lexer": "ipython3",
   "version": "3.8.18"
  }
 },
 "nbformat": 4,
 "nbformat_minor": 2
}
