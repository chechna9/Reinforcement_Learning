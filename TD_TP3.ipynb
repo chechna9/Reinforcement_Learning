{
 "cells": [
  {
   "cell_type": "code",
   "execution_count": 35,
   "metadata": {},
   "outputs": [],
   "source": [
    "import numpy as np"
   ]
  },
  {
   "cell_type": "markdown",
   "metadata": {},
   "source": [
    "EX1"
   ]
  },
  {
   "cell_type": "code",
   "execution_count": 36,
   "metadata": {},
   "outputs": [],
   "source": [
    "#global variables \n",
    "gamma=0.9\n",
    "delta=10**(-10)\n",
    "\n",
    "rewards=[\n",
    "    [[-1,1],[-1/2,3/2]],\n",
    "    [[-2/3,5/4],[-1,1]],\n",
    "]\n",
    "\n",
    "transition=[\n",
    "    [[0.7,0.3],[0.8,0.2]],\n",
    "    [[0.9,0.1],[0.5,0.5]],\n",
    "]"
   ]
  },
  {
   "cell_type": "code",
   "execution_count": 37,
   "metadata": {},
   "outputs": [],
   "source": [
    "actions = [a1,a2] = [0,1]\n",
    "states = [s1,s2] = [0,1]\n",
    "\n",
    "policy_1 = {\n",
    "    s1:(1,0),\n",
    "    s2:(1,0)\n",
    "}\n",
    "\n",
    "policy_2 = {\n",
    "    s1:(0.2,0.8),\n",
    "    s2:(0.5,0.5),\n",
    "}"
   ]
  },
  {
   "cell_type": "code",
   "execution_count": 38,
   "metadata": {},
   "outputs": [],
   "source": [
    "# first dimens is the depart state\n",
    "# second is tue actons third is the reward of each final state\n",
    "rewards = np.array([\n",
    "    [[-1,1],[-1/2,3/2]],\n",
    "    [[-2/3,5/4],[-1,1]]\n",
    "])"
   ]
  },
  {
   "cell_type": "code",
   "execution_count": 39,
   "metadata": {},
   "outputs": [],
   "source": [
    "def getAction(policy, state):\n",
    "    return np.random.choice(actions, p=policy[state])\n"
   ]
  },
  {
   "cell_type": "code",
   "execution_count": 40,
   "metadata": {},
   "outputs": [],
   "source": [
    "def policy_evaluation(policy):\n",
    "    valueFunction=np.zeros(states)\n",
    "    i=0\n",
    "    while True:\n",
    "        valueFunctionPrev=valueFunction.copy() \n",
    "        for s in states:\n",
    "            outerSum=0\n",
    "            for a in actions:\n",
    "                innerSum=0\n",
    "                for sN in states:\n",
    "                    innerSum+=transition[sN][a][s]*(rewards[sN][a][s]+gamma*valueFunctionPrev[sN])\n",
    "                outerSum+=policy[s][a]*innerSum\n",
    "            valueFunction[s]=outerSum\n",
    "        # print(\"valueFunctionPrev=\",valueFunctionPrev, \"   valueFunction=\",valueFunction)   \n",
    "        if (np.max(np.abs(valueFunctionPrev-valueFunction))<delta):\n",
    "            print(\"nb iteration=i\")\n",
    "            break\n",
    "        i+=1\n",
    "    return valueFunction"
   ]
  },
  {
   "cell_type": "code",
   "execution_count": null,
   "metadata": {},
   "outputs": [],
   "source": []
  }
 ],
 "metadata": {
  "kernelspec": {
   "display_name": "base",
   "language": "python",
   "name": "python3"
  },
  "language_info": {
   "codemirror_mode": {
    "name": "ipython",
    "version": 3
   },
   "file_extension": ".py",
   "mimetype": "text/x-python",
   "name": "python",
   "nbconvert_exporter": "python",
   "pygments_lexer": "ipython3",
   "version": "3.9.18"
  }
 },
 "nbformat": 4,
 "nbformat_minor": 2
}
