{
 "cells": [
  {
   "cell_type": "code",
   "execution_count": 381,
   "id": "af3ff4f0",
   "metadata": {},
   "outputs": [],
   "source": [
    "import numpy as np\n",
    "import matplotlib.pyplot as plt"
   ]
  },
  {
   "cell_type": "markdown",
   "id": "f7e670ce",
   "metadata": {},
   "source": [
    "### Exercice 1 "
   ]
  },
  {
   "cell_type": "code",
   "execution_count": 382,
   "id": "ece9b9a1",
   "metadata": {},
   "outputs": [],
   "source": [
    "# initialization\n",
    "numSteps = 2000\n",
    "epsilons = [0,0.01,0.1]\n",
    "numberOfArms = 10"
   ]
  },
  {
   "cell_type": "markdown",
   "id": "d9218b0b",
   "metadata": {},
   "source": [
    "###### Modelling"
   ]
  },
  {
   "cell_type": "code",
   "execution_count": 383,
   "id": "4b2b1467",
   "metadata": {},
   "outputs": [],
   "source": [
    "class Reward:\n",
    "    def __init__(self,value:float,time:int):\n",
    "        self.value=value\n",
    "        self.time=time"
   ]
  },
  {
   "cell_type": "code",
   "execution_count": 384,
   "id": "6e444452",
   "metadata": {},
   "outputs": [],
   "source": [
    "class Action:\n",
    "    def __init__(self):\n",
    "        self.rewards:list[Reward] = []\n",
    "        self.meanRewards=0 \n",
    "#acumulate the action value\n",
    "    def incrementalActionValue(self,target:Reward):\n",
    "        stepSize = 1/len(self.rewards)\n",
    "        oldAV = self.meanRewards\n",
    "        self.meanRewards = oldAV + stepSize*(target.value - oldAV)  \n",
    "#push a new Reward \n",
    "    def pushReward(self,newReward:Reward):\n",
    "        self.rewards.append(newReward)\n",
    "        self.incrementalActionValue(newReward)\n",
    "    "
   ]
  },
  {
   "cell_type": "code",
   "execution_count": 385,
   "id": "f8c1b3ed",
   "metadata": {},
   "outputs": [],
   "source": [
    "class BanditProblem():\n",
    "    def __init__(self,numberOfArms):\n",
    "    #     assuming the action values follow a gaussian distribution N(0,1)\n",
    "        self.optimalActionsProportion:list[float]=[]\n",
    "        self.optimalActions:list[bool]=[]\n",
    "        self.averageRewards:list[float]=[]\n",
    "        self.rewards:list[Reward] = []\n",
    "        self.currentStep = 0\n",
    "        self.numberOfArms = numberOfArms\n",
    "        self.actions = [Action() for k in range(self.numberOfArms)]\n",
    "        self.trueActionValues = np.random.normal(loc=0, scale=1, size=self.numberOfArms)\n",
    "\n",
    "#     get rewards after selecting At : follow gaussian dist of N(q*(At),1)\n",
    "    def getReward(self,index,t):\n",
    "        rewardValue = np.random.normal(self.trueActionValues[index],1)\n",
    "        reward = Reward(value=rewardValue,time=t)\n",
    "        return reward\n",
    "#     selecting the action according to the greedy eplison method\n",
    "    def selectGreedyEpsilon(self,epsilon:float)->Action:\n",
    "#         random proba \n",
    "        proba = np.random.rand()\n",
    "#     if proba > eplsilon we select a greedy action else we select a random choice\n",
    "#         the estimated action values \n",
    "        means = [x.meanRewards for x in self.actions]\n",
    "        if proba > epsilon :\n",
    "#         greedy case\n",
    "            selectedActionIndex = np.argmax(means)\n",
    "#         random case\n",
    "        else :\n",
    "            selectedActionIndex = np.random.choice(self.numberOfArms)\n",
    "        \n",
    "        action = self.actions[selectedActionIndex]\n",
    "#        adding optimal actions\n",
    "#         old = \n",
    "        self.optimalActions.append(selectedActionIndex == np.argmax(self.trueActionValues))\n",
    "        self.optimalActionsProportion.append(np.mean(self.optimalActions,axis=0)*100)\n",
    "        return action,selectedActionIndex\n",
    "#     let the fun begin\n",
    "    def startGreedyEpsilon(self,epsilon,steps):\n",
    "        for i in range(steps):\n",
    "#             select action\n",
    "            action,actionIndex=self.selectGreedyEpsilon(epsilon)\n",
    "#     get reward\n",
    "            reward = self.getReward(index=actionIndex,t=self.currentStep+i)\n",
    "#     storing the global reward and the global average reward\n",
    "            self.rewards.append(reward)\n",
    "            if self.currentStep == 0:\n",
    "                self.averageRewards.append(reward.value)\n",
    "            else :\n",
    "#                 incremental mean implementation\n",
    "                target = reward.value\n",
    "                oldVal = self.averageRewards[self.currentStep-1]\n",
    "                newVal = oldVal + (1/self.currentStep)*(target - oldVal)\n",
    "                self.averageRewards.append(newVal)\n",
    "#             storing the reward inside the specefic action\n",
    "            action.pushReward(reward)\n",
    "            self.currentStep += 1\n",
    "        "
   ]
  },
  {
   "cell_type": "code",
   "execution_count": 386,
   "id": "ca3da4b5",
   "metadata": {},
   "outputs": [],
   "source": [
    "bandits = [BanditProblem(numberOfArms=numberOfArms) for x in range(len(epsilons))]"
   ]
  },
  {
   "cell_type": "code",
   "execution_count": 387,
   "id": "f62624bd",
   "metadata": {},
   "outputs": [],
   "source": [
    "# playing or training\n",
    "for index,bandit in enumerate(bandits):\n",
    "    bandit.startGreedyEpsilon(epsilon=epsilons[index],steps=numSteps)"
   ]
  },
  {
   "cell_type": "markdown",
   "id": "a4ad64d5",
   "metadata": {},
   "source": [
    "#### 1. Illustrate the curve of the average reward as a function of \n",
    "#### the number of steps. "
   ]
  },
  {
   "cell_type": "code",
   "execution_count": 388,
   "id": "306deb7e",
   "metadata": {},
   "outputs": [
    {
     "name": "stdout",
     "output_type": "stream",
     "text": [
      "1.3753399050969513\n"
     ]
    }
   ],
   "source": [
    "epsi0 = bandits[2]\n",
    "print(np.mean(epsi0.averageRewards))"
   ]
  },
  {
   "cell_type": "code",
   "execution_count": 389,
   "id": "02860b30",
   "metadata": {
    "scrolled": false
   },
   "outputs": [
    {
     "name": "stderr",
     "output_type": "stream",
     "text": [
      "No handles with labels found to put in legend.\n"
     ]
    },
    {
     "data": {
      "text/plain": [
       "<matplotlib.legend.Legend at 0x15f157e58b0>"
      ]
     },
     "execution_count": 389,
     "metadata": {},
     "output_type": "execute_result"
    },
    {
     "data": {
      "image/png": "[encoded data removed]",
      "text/plain": [
       "<Figure size 432x288 with 1 Axes>"
      ]
     },
     "metadata": {
      "needs_background": "light"
     },
     "output_type": "display_data"
    }
   ],
   "source": [
    "labels = ['£=0','£=0.01','£=0.1']\n",
    "ax = plt.subplot()\n",
    "ax.set_xlabel(\"steps\")\n",
    "ax.set_ylabel(\"averageReward\")\n",
    "ax.legend()\n",
    "for index,bandit in enumerate(bandits):\n",
    "    ax.plot(bandit.averageRewards,label=labels[index])\n",
    "ax.set_title(\"average reward as function of number of steps\")\n",
    "ax.legend()"
   ]
  },
  {
   "cell_type": "markdown",
   "id": "fba06b49",
   "metadata": {},
   "source": [
    "#### 2. Illustrate the curve of the optimal actions as a function of the number of\n",
    "#### steps."
   ]
  },
  {
   "cell_type": "code",
   "execution_count": 390,
   "id": "d5696047",
   "metadata": {
    "scrolled": true
   },
   "outputs": [
    {
     "name": "stderr",
     "output_type": "stream",
     "text": [
      "No handles with labels found to put in legend.\n"
     ]
    },
    {
     "data": {
      "text/plain": [
       "<matplotlib.legend.Legend at 0x15f1579cfd0>"
      ]
     },
     "execution_count": 390,
     "metadata": {},
     "output_type": "execute_result"
    },
    {
     "data": {
      "image/png": "[encoded data removed]",
      "text/plain": [
       "<Figure size 432x288 with 1 Axes>"
      ]
     },
     "metadata": {
      "needs_background": "light"
     },
     "output_type": "display_data"
    }
   ],
   "source": [
    "ax = plt.subplot()\n",
    "ax.set_xlabel(\"steps\")\n",
    "ax.set_ylabel(\"optimal actions %\")\n",
    "ax.legend()\n",
    "for index,bandit in enumerate(bandits):\n",
    "    ax.plot(bandit.optimalActionsProportion,label=labels[index])\n",
    "ax.set_title(\"optimal actions as function of number of steps\")\n",
    "ax.legend()"
   ]
  },
  {
   "cell_type": "code",
   "execution_count": null,
   "id": "e2cb8a53",
   "metadata": {},
   "outputs": [],
   "source": []
  },
  {
   "cell_type": "code",
   "execution_count": null,
   "id": "93b0fdf1",
   "metadata": {},
   "outputs": [],
   "source": []
  },
  {
   "cell_type": "code",
   "execution_count": null,
   "id": "6f3af6b6",
   "metadata": {},
   "outputs": [],
   "source": []
  },
  {
   "cell_type": "code",
   "execution_count": null,
   "id": "75d0443d",
   "metadata": {},
   "outputs": [],
   "source": []
  },
  {
   "cell_type": "code",
   "execution_count": null,
   "id": "a677226d",
   "metadata": {},
   "outputs": [],
   "source": []
  }
 ],
 "metadata": {
  "kernelspec": {
   "display_name": "Python 3 (ipykernel)",
   "language": "python",
   "name": "python3"
  },
  "language_info": {
   "codemirror_mode": {
    "name": "ipython",
    "version": 3
   },
   "file_extension": ".py",
   "mimetype": "text/x-python",
   "name": "python",
   "nbconvert_exporter": "python",
   "pygments_lexer": "ipython3",
   "version": "3.9.7"
  }
 },
 "nbformat": 4,
 "nbformat_minor": 5
}
