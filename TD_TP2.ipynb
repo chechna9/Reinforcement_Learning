{
 "cells": [
  {
   "cell_type": "code",
   "execution_count": 1,
   "id": "1c805a84",
   "metadata": {},
   "outputs": [],
   "source": [
    "import numpy as np"
   ]
  },
  {
   "cell_type": "markdown",
   "id": "b3728922",
   "metadata": {},
   "source": [
    "### EX1 "
   ]
  },
  {
   "cell_type": "code",
   "execution_count": 6,
   "id": "534d4e11",
   "metadata": {},
   "outputs": [],
   "source": [
    "# global variable \n",
    "num_rows=3\n",
    "num_cols=3\n",
    "num_actions=4\n",
    "shapePolicy=(num_rows, num_cols,num_actions)\n",
    "shapeValue=(num_rows, num_cols)\n",
    "gamma=0.7\n",
    "episode_length=20\n",
    "num_episodes=1000"
   ]
  },
  {
   "cell_type": "code",
   "execution_count": 7,
   "id": "2054fe6e",
   "metadata": {},
   "outputs": [],
   "source": [
    "\n",
    "reward_function=np.array([\n",
    "[[-1., 2/3, -1., 1.], [-1., 2., 1/2, 3/2], [-1., 5/2, 1/2, -1.]],\n",
    "[[1/3, 3/2, -1., 4/3.], [1/4, 3., 1/3, 3/2], [1/4, 7/2, -1., 1.]],\n",
    "[[1/2, -1., -1., 3/2], [4/5, -1., 1., 3.], [1/2, -1., 4/5, -1.]],\n",
    "])\n",
    "\n",
    "action = [up, down, left, right] = [0,1,2,3]\n",
    "policy1=np.array([\n",
    "[[0., 1., 0., 0.], [0., 1., 0., 0.], [0., 1., 0., 0.]],\n",
    "[[0., 1., 0., 0.], [0., 1., 0., 0.], [0., 1., 0., 0.]],\n",
    "[[0., 0., 0., 1.], [0., 0., 0., 1.], [0., 0., 0., 1.]],\n",
    "])\n",
    "\n",
    "policy2=np.array([\n",
    "[[0., 0.5, 0., 0.5], [0., 1., 0., 0.], [0., 0.5, 0.5, 0.]],\n",
    "[[0., 0., 0., 1.], [0.25, 0.25, 0.25, 0.25], [0., 0., 1., 0.]],\n",
    "[[0.5, 0., 0., 0.5], [1., 0., 0., 0.], [0.5, 0., 0.5, 0.]],\n",
    "])\n",
    "policy3=np.full(shapePolicy, 0.25)\n",
    "policy3=np.array([\n",
    "    [[0.25, 0.25, 0.25, 0.25], [0.25, 0.25, 0.25, 0.25], [0.25, 0.25, 0.25, 0.25]],\n",
    "    [[0.25, 0.25, 0.25, 0.25], [0.25, 0.25, 0.25, 0.25], [0.25, 0.25, 0.25, 0.25]],\n",
    "    [[0.25, 0.25, 0.25, 0.25], [0.25, 0.25, 0.25, 0.25], [0.25, 0.25, 0.25, 0.25]],\n",
    "    ])\n"
   ]
  },
  {
   "cell_type": "code",
   "execution_count": 8,
   "id": "b858b297",
   "metadata": {},
   "outputs": [],
   "source": [
    "def isValideState(state):\n",
    "    return state[0] < num_rows and state[0] >= 0 and state[1] < num_cols and state[0] >= 0"
   ]
  },
  {
   "cell_type": "code",
   "execution_count": 9,
   "id": "9a451c59",
   "metadata": {},
   "outputs": [],
   "source": [
    "def transition(oldState,action):\n",
    "    newState = (0,0)\n",
    "    if action == up : \n",
    "        newState = (oldState[0] - 1, oldState[1])\n",
    "    elif action == down : \n",
    "        newState = (oldState[0] + 1, oldState[1])\n",
    "    elif action == left : \n",
    "        newState = (oldState[0], oldState[1] - 1)\n",
    "    elif action == right : \n",
    "        newState = (oldState[0], oldState[1] + 1)\n",
    "    if isValideState(newState):\n",
    "        return newState\n",
    "    else :\n",
    "        return oldState"
   ]
  },
  {
   "cell_type": "code",
   "execution_count": 10,
   "id": "9edc9d16",
   "metadata": {},
   "outputs": [],
   "source": [
    "def sekect_action(state,policy)->int:\n",
    "    prob_action = policy[state]\n",
    "    action = np.random.choice(num_actions,p=prob_action)\n",
    "    return action"
   ]
  },
  {
   "cell_type": "code",
   "execution_count": null,
   "id": "42f3bfcb",
   "metadata": {},
   "outputs": [],
   "source": [
    "def traj_episode(policy):"
   ]
  }
 ],
 "metadata": {
  "kernelspec": {
   "display_name": "Python 3 (ipykernel)",
   "language": "python",
   "name": "python3"
  },
  "language_info": {
   "codemirror_mode": {
    "name": "ipython",
    "version": 3
   },
   "file_extension": ".py",
   "mimetype": "text/x-python",
   "name": "python",
   "nbconvert_exporter": "python",
   "pygments_lexer": "ipython3",
   "version": "3.9.7"
  }
 },
 "nbformat": 4,
 "nbformat_minor": 5
}
