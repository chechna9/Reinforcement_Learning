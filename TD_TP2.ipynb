{
 "cells": [
  {
   "cell_type": "markdown",
   "id": "1a89672c",
   "metadata": {},
   "source": [
    "### Setup"
   ]
  },
  {
   "cell_type": "code",
   "execution_count": 1,
   "id": "1c805a84",
   "metadata": {},
   "outputs": [],
   "source": [
    "import numpy as np\n",
    "from tqdm import tqdm\n",
    "import matplotlib.pyplot as plt"
   ]
  },
  {
   "cell_type": "markdown",
   "id": "b3728922",
   "metadata": {},
   "source": [
    "### EX1 "
   ]
  },
  {
   "cell_type": "code",
   "execution_count": 10,
   "id": "534d4e11",
   "metadata": {},
   "outputs": [],
   "source": [
    "# global variable \n",
    "num_rows=3\n",
    "num_cols=3\n",
    "num_actions=4\n",
    "shapePolicy=(num_rows, num_cols,num_actions)\n",
    "shapeValue=(num_rows, num_cols)\n",
    "gamma=0.7\n",
    "episode_length=20\n",
    "num_episodes=1000"
   ]
  },
  {
   "cell_type": "code",
   "execution_count": 11,
   "id": "2054fe6e",
   "metadata": {},
   "outputs": [],
   "source": [
    "actions = [up, down, left, right] = [0,1,2,3]\n",
    "\n",
    "reward_function=np.array([\n",
    "[[-1., 2/3, -1., 1.], [-1., 2., 1/2, 3/2], [-1., 5/2, 1/2, -1.]],\n",
    "[[1/3, 3/2, -1., 4/3.], [1/4, 3., 1/3, 3/2], [1/4, 7/2, -1., 1.]],\n",
    "[[1/2, -1., -1., 3/2], [4/5, -1., 1., 3.], [1/2, -1., 4/5, -1.]],\n",
    "])\n",
    "\n",
    "policy1=np.array([\n",
    "[[0., 1., 0., 0.], [0., 1., 0., 0.], [0., 1., 0., 0.]],\n",
    "[[0., 1., 0., 0.], [0., 1., 0., 0.], [0., 1., 0., 0.]],\n",
    "[[0., 0., 0., 1.], [0., 0., 0., 1.], [0., 0., 0., 1.]],\n",
    "])\n",
    "\n",
    "policy2=np.array([\n",
    "[[0., 0.5, 0., 0.5], [0., 1., 0., 0.], [0., 0.5, 0.5, 0.]],\n",
    "[[0., 0., 0., 1.], [0.25, 0.25, 0.25, 0.25], [0., 0., 1., 0.]],\n",
    "[[0.5, 0., 0., 0.5], [1., 0., 0., 0.], [0.5, 0., 0.5, 0.]],\n",
    "])\n",
    "\n",
    "policy3=np.full(shapePolicy, 0.25)"
   ]
  },
  {
   "cell_type": "markdown",
   "id": "82b6c52e",
   "metadata": {},
   "source": [
    "**Calculating the state value function**"
   ]
  },
  {
   "cell_type": "code",
   "execution_count": 12,
   "id": "b858b297",
   "metadata": {},
   "outputs": [],
   "source": [
    "def isValideState(state):\n",
    "    return state[0] < num_rows and state[0] >= 0 and state[1] < num_cols and state[1] >= 0"
   ]
  },
  {
   "cell_type": "code",
   "execution_count": 13,
   "id": "9a451c59",
   "metadata": {},
   "outputs": [],
   "source": [
    "def transition(oldState,action):\n",
    "    newState = (0,0)\n",
    "    if action == up : \n",
    "        newState = (oldState[0] - 1, oldState[1])\n",
    "    elif action == down : \n",
    "        newState = (oldState[0] + 1, oldState[1])\n",
    "    elif action == left : \n",
    "        newState = (oldState[0], oldState[1] - 1)\n",
    "    elif action == right : \n",
    "        newState = (oldState[0], oldState[1] + 1)\n",
    "    if isValideState(newState):\n",
    "        return newState\n",
    "    else :\n",
    "        return oldState"
   ]
  },
  {
   "cell_type": "code",
   "execution_count": 14,
   "id": "9edc9d16",
   "metadata": {},
   "outputs": [],
   "source": [
    "def select_action(state,policy)->int:\n",
    "    prob_action = policy[state]\n",
    "    action = np.random.choice(actions,p=prob_action)\n",
    "    return action"
   ]
  },
  {
   "cell_type": "code",
   "execution_count": 15,
   "id": "7011353c",
   "metadata": {},
   "outputs": [],
   "source": [
    "def displayAction(action):\n",
    "    if action == up:\n",
    "        print(\"↑\",end=\"\")\n",
    "    elif action == down:\n",
    "        print(\"↓\",end=\"\")\n",
    "    elif action == left:\n",
    "        print(\"←\",end=\"\")\n",
    "    elif action == right:\n",
    "        print(\"→\",end=\"\")\n",
    "def displayTraj(trajectory):\n",
    "    print(\"\\nTrajectory : \",end=\"\")\n",
    "    for i in trajectory:\n",
    "        displayAction(i[1])"
   ]
  },
  {
   "cell_type": "code",
   "execution_count": 27,
   "id": "824576fc",
   "metadata": {},
   "outputs": [],
   "source": [
    "\n",
    "def getTrajectory(policy,initState=(0,0),showAction=False):\n",
    "    \"\"\"_summary_\n",
    "\n",
    "    Args:\n",
    "        policy : policy to follow\n",
    "        initState: the initial state of the trajectory\n",
    "\n",
    "    Returns:\n",
    "        trajectory: list of tuple (state,action,newState)\n",
    "    \"\"\"\n",
    "    state = initState if isValideState(initState) else (0,0)\n",
    "    trajectory = []\n",
    "    for i in range(episode_length):\n",
    "        action = select_action(state,policy)\n",
    "        if showAction:\n",
    "            displayAction(action)\n",
    "        newState = transition(state,action)\n",
    "        trajectory.append((state,action,newState))\n",
    "        state = newState\n",
    "    return trajectory"
   ]
  },
  {
   "cell_type": "code",
   "execution_count": 28,
   "id": "9c2e8ce1",
   "metadata": {},
   "outputs": [
    {
     "name": "stdout",
     "output_type": "stream",
     "text": [
      "↓←→↓↓↓←→←←→←←←↓→→↓↑←\n",
      "Trajectory : ↓←→↓↓↓←→←←→←←←↓→→↓↑←"
     ]
    }
   ],
   "source": [
    "displayTraj(getTrajectory(policy3,(0,0),showAction=True))"
   ]
  },
  {
   "cell_type": "markdown",
   "id": "5181137d",
   "metadata": {},
   "source": [
    "**The formulas**\n",
    "$$\n",
    "V_\\pi(s) = \\Epsilon_\\pi[G_t \\, | \\, S_t=s]\n",
    "\\\\\n",
    "G_t = R_{t+1} + \\gamma G_{t+1}\n",
    "$$"
   ]
  },
  {
   "cell_type": "code",
   "execution_count": 31,
   "id": "1ca068cf",
   "metadata": {},
   "outputs": [],
   "source": [
    "def getReward(state,action):\n",
    "    return reward_function[state][action]\n",
    "\n",
    "def getReturn(trajectory,returns):\n",
    "    \"\"\"_summary_\n",
    "\n",
    "    Args:\n",
    "        trajectory: state action newstate\n",
    "        returns : dict of state and list of return\n",
    "\n",
    "    Returns:\n",
    "        the updated returns\n",
    "    \"\"\"\n",
    "    G = 0\n",
    "    for san in reversed(trajectory):\n",
    "        s,a,_ = san\n",
    "        r = getReward(s,a)\n",
    "        G = r + gamma * G\n",
    "        if s not in returns:\n",
    "            returns[s] = [G]\n",
    "        else:\n",
    "            returns[s].append(G)\n",
    "    return returns"
   ]
  },
  {
   "cell_type": "code",
   "execution_count": 37,
   "id": "d0468efc",
   "metadata": {},
   "outputs": [],
   "source": [
    "def monteCarloPolicyEvaluation(policy,numberEpisodes):\n",
    "    value_function=np.zeros(shapeValue)\n",
    "    returns = {}\n",
    "    for i in range(numberEpisodes):\n",
    "        trajectory = getTrajectory(policy)\n",
    "        # getting the returns for each state\n",
    "        returns = getReturn(trajectory,returns)\n",
    "        \n",
    "    # calculating the mean of the returns for each state which is the value function\n",
    "    for i in range(num_rows):\n",
    "        for j in range (num_cols):\n",
    "            if (i,j) in returns:\n",
    "                value_function[(i,j)] = np.round(np.mean(returns[(i,j)]), 2)  # rounds the  mean two decimal places\n",
    "    return value_function\n"
   ]
  },
  {
   "cell_type": "code",
   "execution_count": 40,
   "id": "c9980285",
   "metadata": {},
   "outputs": [],
   "source": [
    "# save history\n",
    "policies = {\n",
    "    \"policy1\":policy1,\n",
    "    \"policy2\":policy2,\n",
    "    \"policy3\":policy3\n",
    "}\n",
    "valuesFunctions = {f'policy{i}':monteCarloPolicyEvaluation(policies[f'policy{i}'],num_episodes) for i in range(1,4)}\n"
   ]
  },
  {
   "cell_type": "markdown",
   "id": "31e70687",
   "metadata": {},
   "source": [
    "**Plotting**"
   ]
  },
  {
   "cell_type": "code",
   "execution_count": 69,
   "id": "dda32db4",
   "metadata": {},
   "outputs": [],
   "source": [
    "def plot_function(v):\n",
    "    plt.imshow(v, cmap='Greys')  \n",
    "    for i in range(num_rows):\n",
    "        for j in range (num_cols):\n",
    "            plt.text(j, i, f'{v[i, j]}', ha='center', va='center', color='r', fontsize=25)\n",
    "    plt.xticks([]) # Hide the x-axis values\n",
    "    plt.yticks([]) # Hide the y-axis values\n",
    "    plt.show() "
   ]
  },
  {
   "cell_type": "code",
   "execution_count": 70,
   "id": "61a9b9ab",
   "metadata": {},
   "outputs": [
    {
     "data": {
      "image/png": "[encoded data removed]",
      "text/plain": [
       "<Figure size 640x480 with 1 Axes>"
      ]
     },
     "metadata": {},
     "output_type": "display_data"
    },
    {
     "name": "stderr",
     "output_type": "stream",
     "text": [
      "Exception ignored in: <function tqdm.__del__ at 0x000001F53A0613A0>\n",
      "Traceback (most recent call last):\n",
      "  File \"c:\\Users\\Lenovo\\anaconda3\\envs\\Ai_env\\lib\\site-packages\\tqdm\\std.py\", line 1145, in __del__\n",
      "    self.close()\n",
      "  File \"c:\\Users\\Lenovo\\anaconda3\\envs\\Ai_env\\lib\\site-packages\\tqdm\\std.py\", line 1274, in close\n",
      "    if self.last_print_t < self.start_t + self.delay:\n",
      "AttributeError: 'tqdm' object has no attribute 'last_print_t'\n"
     ]
    },
    {
     "data": {
      "image/png": "[encoded data removed]",
      "text/plain": [
       "<Figure size 640x480 with 1 Axes>"
      ]
     },
     "metadata": {},
     "output_type": "display_data"
    },
    {
     "data": {
      "image/png": "[encoded data removed]",
      "text/plain": [
       "<Figure size 640x480 with 1 Axes>"
      ]
     },
     "metadata": {},
     "output_type": "display_data"
    }
   ],
   "source": [
    "for vF in valuesFunctions:\n",
    "    plot_function(valuesFunctions[vF])"
   ]
  },
  {
   "cell_type": "markdown",
   "id": "975d88bd",
   "metadata": {},
   "source": [
    "### Exo 2"
   ]
  },
  {
   "cell_type": "markdown",
   "id": "dea67be2",
   "metadata": {},
   "source": [
    "Bellman optimality equation $$V^*(s)=max_a\\sum_{s',r} p(s',r|s,a)[r+\\gamma V^*(s')] $$\n",
    "$$V^*(s_1)=max_a\\sum_{s'} p(s'|s,a)[r(s'|s_1,a)+\\gamma V^*(s')] $$\n",
    "$$V^*(s_2)=max_a\\sum_{s'} p(s'|s,a)[r(s'|s_2,a)+\\gamma V^*(s')] $$\n",
    "\n",
    "$$V^*(s_1)=max_a \\{ p(s_1|s_1,a_1)[-1+\\gamma V^*(s1)] + p(s_2|s_1,a_1)[1+\\gamma V^*(s2)] ; p(s_1|s_1,a_2)[-0.5+\\gamma V^*(s1)] + p(s_2|s_1,a_2)[1.5+\\gamma V^*(s2)]\\} $$\n",
    "$$V^*(s_2)=max_a \\{ p(s_1|s_2,a_1)[-2/3+\\gamma V^*(s1)] + p(s_2|s_2,a_1)[1.25+\\gamma V^*(s2)] ; p(s_1|s_2,a_2)[-1+\\gamma V^*(s1)] + p(s_2|s_2,a_2)[1+\\gamma V^*(s2)]\\} $$\n",
    "\n",
    "$$V^*(s_1)=max \\{ 0.7[-1+0.8*V^*(s1)] + 0.3[1+0.8*V^*(s2)] ; 0.8[-0.5+0.8*V^*(s1)] + 0.2[1.5+0.8*V^*(s2)]\\} $$\n",
    "$$V^*(s_2)=max \\{ 0.9[-2/3+0.8*V^*(s1)] + 0.1[1.25+0.8*V^*(s2)] ; 0.5[-1+0.8*V^*(s1)] + 0.5[1+0.8*V^*(s2)]\\} $$\n",
    "\n",
    "$$V^*(s_1)=max \\{ -0.4+0.56*V^*(s1)+0.24*V^*(s2) ; -0.1+0.64*V^*(s1)+0.16*V^*(s2)\\} $$\n",
    "$$V^*(s_2)=max \\{ -0.475+0.72*V^*(s1)+0.08*V^*(s2); 0.4*v1+0.4*V^*(s2)\\} $$"
   ]
  },
  {
   "cell_type": "code",
   "execution_count": 2,
   "id": "b0614b29",
   "metadata": {},
   "outputs": [],
   "source": [
    "def v1_a1(v1,v2):\n",
    "    return -0.4 + 0.56 * v1 + 0.24 * v2"
   ]
  },
  {
   "cell_type": "code",
   "execution_count": 3,
   "id": "19ce42f7",
   "metadata": {},
   "outputs": [],
   "source": [
    "def v1_a2(v1,v2):\n",
    "    return -0.1 + 0.64 * v1 + 0.16 * v2"
   ]
  },
  {
   "cell_type": "code",
   "execution_count": 4,
   "id": "ad18469a",
   "metadata": {},
   "outputs": [],
   "source": [
    "def v2_a1(v1,v2):\n",
    "    return -0.475 + 0.72 * v1 + 0.08 * v2"
   ]
  },
  {
   "cell_type": "code",
   "execution_count": 5,
   "id": "6458fc41",
   "metadata": {},
   "outputs": [],
   "source": [
    "def v2_a2(v1,v2):\n",
    "    return 0.4* v1 + 0.4 * v2"
   ]
  },
  {
   "cell_type": "code",
   "execution_count": 7,
   "id": "11145f49",
   "metadata": {},
   "outputs": [
    {
     "name": "stdout",
     "output_type": "stream",
     "text": [
      "Iteration 1 v1=0 v2=0\n",
      "Iteration 2 v1=-0.1 v2=-0.04000000000000001\n",
      "Iteration 3 v1=-0.1704 v2=-0.08416\n",
      "Iteration 4 v1=-0.2225216 v2=-0.12267264000000001\n",
      "Iteration 5 v1=-0.26204144640000004 v2=-0.15388563456000004\n",
      "Iteration 6 v1=-0.2923282272256001 v2=-0.17848554471424005\n",
      "Iteration 7 v1=-0.3156477525786625 v2=-0.19765331891716104\n",
      "Iteration 8 v1=-0.3336390926770898 v2=-0.21251696463770037\n",
      "Iteration 9 v1=-0.34753173365536955 v2=-0.22401947931722796\n",
      "Iteration 10 v1=-0.35826342623019297 v2=-0.2329131622189684\n",
      "Iteration 11 v1=-0.3665546987423584 v2=-0.23978714438453072\n",
      "Iteration 12 v1=-0.3729609502966343 v2=-0.245099237872466\n",
      "Iteration 13 v1=-0.3779108862494406 v2=-0.24920404964876267\n",
      "Iteration 14 v1=-0.381735615143444 v2=-0.25237586591688266\n",
      "Iteration 15 v1=-0.3846909322385054 v2=-0.2548267192621553\n",
      "Iteration 16 v1=-0.3869744717145884 v2=-0.2567204763906975\n",
      "Iteration 17 v1=-0.38873893811984817 v2=-0.2581837658042183\n",
      "Iteration 18 v1=-0.3901023229253778 v2=-0.2593144354918384\n",
      "Iteration 19 v1=-0.39115579635093595 v2=-0.26018809273710974\n",
      "Iteration 20 v1=-0.3919698045025366 v2=-0.26086315889585854\n",
      "Iteration 21 v1=-0.3925987803049608 v2=-0.26138477568032775\n",
      "Iteration 22 v1=-0.39308478350402737 v2=-0.2617878236737421\n",
      "Iteration 23 v1=-0.3934603132303763 v2=-0.26209925476164736\n",
      "Iteration 24 v1=-0.39375048122930445 v2=-0.2623398943963807\n",
      "Iteration 25 v1=-0.3939746910901758 v2=-0.2625258341946226\n",
      "Iteration 26 v1=-0.3941479357688521 v2=-0.2626695079853899\n",
      "Iteration 27 v1=-0.3942818001697277 v2=-0.26278052326204704\n",
      "Iteration 28 v1=-0.39438523583055324 v2=-0.2628663036370401\n",
      "Iteration 29 v1=-0.3944651595134805 v2=-0.26293258526020824\n",
      "Iteration 30 v1=-0.3945269157302608 v2=-0.26298380039618763\n",
      "Iteration 31 v1=-0.3945746341307569 v2=-0.2630233738107778\n",
      "Iteration 32 v1=-0.39461150565340886 v2=-0.26305395178567464\n",
      "Iteration 33 v1=-0.39463999590388954 v2=-0.2630775790758257\n",
      "Iteration 34 v1=-0.39466201003062146 v2=-0.2630958356425789\n",
      "Iteration 35 v1=-0.3946790201224103 v2=-0.2631099423059957\n",
      "Iteration 36 v1=-0.3946921636473019 v2=-0.26312084238131905\n",
      "Iteration 37 v1=-0.39470231951528423 v2=-0.26312926475864135\n",
      "Iteration 38 v1=-0.39471016685116456 v2=-0.2631357726439224\n",
      "Iteration 39 v1=-0.394716230407773 v2=-0.2631408012206782\n",
      "Iteration 40 v1=-0.39472091565628326 v2=-0.2631446867507846\n",
      "Iteration 41 v1=-0.3947245359001468 v2=-0.26314768906037256\n",
      "Iteration 42 v1=-0.39472733322575354 v2=-0.26315000891445045\n",
      "Iteration 43 v1=-0.3947294946907943 v2=-0.26315180144209793\n",
      "Iteration 44 v1=-0.394731164832844 v2=-0.26315318650997677\n",
      "Iteration 45 v1=-0.39473245533461643 v2=-0.2631542567378373\n",
      "Iteration 46 v1=-0.3947334524922085 v2=-0.26315508369201834\n",
      "Iteration 47 v1=-0.39473422298573635 v2=-0.2631557226711019\n",
      "Iteration 48 v1=-0.39473481833824753 v2=-0.26315621640373976\n",
      "Iteration 49 v1=-0.3947352783610768 v2=-0.26315659790592666\n",
      "Iteration 50 v1=-0.3947356338160374 v2=-0.2631568926887856\n",
      "Iteration 51 v1=-0.3947359084724696 v2=-0.2631571204645021\n",
      "Iteration 52 v1=-0.39473612069670094 v2=-0.2631572964644812\n",
      "Iteration 53 v1=-0.3947362846802056 v2=-0.26315743245787476\n",
      "Iteration 54 v1=-0.39473641138859156 v2=-0.2631575375385865\n",
      "Iteration 55 v1=-0.3947365092948725 v2=-0.2631576187333836\n",
      "Iteration 56 v1=-0.39473658494605973 v2=-0.26315768147177737\n",
      "Iteration 57 v1=-0.39473664340096265 v2=-0.26315772994909603\n",
      "Iteration 58 v1=-0.3947366885684715 v2=-0.263157767407027\n",
      "Iteration 59 v1=-0.3947367234689461 v2=-0.2631577963503893\n",
      "Iteration 60 v1=-0.3947367504361878 v2=-0.26315781871463084\n",
      "Iteration 61 v1=-0.39473677127350115 v2=-0.2631578359952528\n",
      "Iteration 62 v1=-0.3947367873742812 v2=-0.2631578493478136\n",
      "Iteration 63 v1=-0.39473679981519016 v2=-0.2631578596652015\n",
      "Iteration 64 v1=-0.3947368094281539 v2=-0.26315786763734217\n",
      "Iteration 65 v1=-0.3947368168559932 v2=-0.2631578737973342\n",
      "Iteration 66 v1=-0.39473682259540915 v2=-0.2631578785570974\n",
      "Iteration 67 v1=-0.39473682703019747 v2=-0.263157882234918\n",
      "Iteration 68 v1=-0.39473683045691327 v2=-0.26315788507673255\n",
      "Iteration 69 v1=-0.39473683310470176 v2=-0.2631578872725737\n",
      "Iteration 70 v1=-0.3947368351506209 v2=-0.26315788896927783\n",
      "Iteration 71 v1=-0.39473683673148185 v2=-0.2631578902803039\n",
      "Iteration 72 v1=-0.394736837952997 v2=-0.26315789129332035\n",
      "Iteration 73 v1=-0.3947368388968494 v2=-0.26315789207606793\n",
      "Iteration 74 v1=-0.39473683962615447 v2=-0.26315789268088896\n",
      "Iteration 75 v1=-0.39473684018968114 v2=-0.263157893148228\n",
      "Iteration 76 v1=-0.39473684062511244 v2=-0.2631578935093362\n",
      "Iteration 77 v1=-0.39473684096156575 v2=-0.2631578937883608\n",
      "Iteration 78 v1=-0.39473684122153985 v2=-0.2631578940039603\n",
      "Iteration 79 v1=-0.39473684142241916 v2=-0.2631578941705518\n",
      "Iteration 80 v1=-0.3947368415776366 v2=-0.2631578942992754\n",
      "Iteration 81 v1=-0.3947368416975715 v2=-0.26315789439873877\n",
      "Iteration 82 v1=-0.394736841790244 v2=-0.2631578944755931\n",
      "Iteration 83 v1=-0.39473684186185104 v2=-0.2631578945349777\n",
      "Iteration 84 v1=-0.3947368419171811 v2=-0.2631578945808635\n",
      "Iteration 85 v1=-0.3947368419599341 v2=-0.26315789461631905\n",
      "Iteration 86 v1=-0.3947368419929689 v2=-0.2631578946437152\n",
      "Iteration 87 v1=-0.39473684201849457 v2=-0.26315789466488393\n",
      "Iteration 88 v1=-0.3947368420382179 v2=-0.26315789468124073\n",
      "Iteration 89 v1=-0.39473684205345805 v2=-0.2631578946938795\n",
      "Iteration 90 v1=-0.39473684206523385 v2=-0.26315789470364537\n",
      "Iteration 91 v1=-0.39473684207433296 v2=-0.26315789471119133\n",
      "Iteration 92 v1=-0.3947368420813637 v2=-0.26315789471702206\n",
      "Iteration 93 v1=-0.39473684208679627 v2=-0.26315789472152734\n",
      "Iteration 94 v1=-0.394736842090994 v2=-0.26315789472500856\n",
      "Iteration 95 v1=-0.39473684209423754 v2=-0.26315789472769846\n",
      "Iteration 96 v1=-0.3947368420967438 v2=-0.2631578947297769\n",
      "Iteration 97 v1=-0.39473684209868043 v2=-0.26315789473138296\n",
      "Iteration 98 v1=-0.39473684210017673 v2=-0.2631578947326239\n",
      "Iteration 99 v1=-0.394736842101333 v2=-0.26315789473358275\n",
      "Iteration 100 v1=-0.3947368421022263 v2=-0.2631578947343236\n",
      "Iteration 101 v1=-0.39473684210291665 v2=-0.26315789473489615\n",
      "Iteration 102 v1=-0.3947368421034501 v2=-0.2631578947353385\n",
      "Iteration 103 v1=-0.3947368421038623 v2=-0.26315789473568035\n",
      "Iteration 104 v1=-0.39473684210418075 v2=-0.2631578947359445\n",
      "Iteration 105 v1=-0.39473684210442683 v2=-0.26315789473614853\n",
      "Iteration 106 v1=-0.39473684210461696 v2=-0.26315789473630624\n",
      "Iteration 107 v1=-0.39473684210476384 v2=-0.26315789473642803\n",
      "Iteration 108 v1=-0.39473684210487736 v2=-0.2631578947365222\n",
      "Iteration 109 v1=-0.39473684210496507 v2=-0.2631578947365949\n",
      "Iteration 110 v1=-0.39473684210503285 v2=-0.26315789473665113\n",
      "Iteration 111 v1=-0.39473684210508525 v2=-0.2631578947366946\n",
      "Iteration 112 v1=-0.3947368421051257 v2=-0.2631578947367281\n",
      "Iteration 113 v1=-0.39473684210515697 v2=-0.26315789473675405\n",
      "Iteration 114 v1=-0.3947368421051811 v2=-0.2631578947367741\n",
      "Iteration 115 v1=-0.39473684210519977 v2=-0.2631578947367895\n",
      "Iteration 116 v1=-0.3947368421052142 v2=-0.2631578947368015\n",
      "Iteration 117 v1=-0.39473684210522536 v2=-0.2631578947368108\n",
      "Iteration 118 v1=-0.3947368421052339 v2=-0.2631578947368179\n",
      "Iteration 119 v1=-0.3947368421052406 v2=-0.26315789473682344\n",
      "Iteration 120 v1=-0.39473684210524573 v2=-0.2631578947368277\n",
      "Iteration 121 v1=-0.39473684210524973 v2=-0.263157894736831\n",
      "Iteration 122 v1=-0.39473684210525284 v2=-0.26315789473683354\n",
      "Iteration 123 v1=-0.3947368421052552 v2=-0.2631578947368355\n",
      "Iteration 124 v1=-0.394736842105257 v2=-0.26315789473683704\n",
      "Iteration 125 v1=-0.39473684210525845 v2=-0.2631578947368382\n",
      "Iteration 126 v1=-0.3947368421052595 v2=-0.2631578947368391\n",
      "Iteration 127 v1=-0.39473684210526033 v2=-0.2631578947368398\n",
      "Iteration 128 v1=-0.394736842105261 v2=-0.26315789473684037\n",
      "Iteration 129 v1=-0.39473684210526155 v2=-0.2631578947368408\n",
      "Iteration 130 v1=-0.39473684210526194 v2=-0.26315789473684115\n",
      "Iteration 131 v1=-0.3947368421052622 v2=-0.26315789473684137\n",
      "Iteration 132 v1=-0.3947368421052625 v2=-0.2631578947368416\n",
      "Iteration 133 v1=-0.3947368421052626 v2=-0.2631578947368417\n",
      "Iteration 134 v1=-0.3947368421052627 v2=-0.26315789473684176\n",
      "Iteration 135 v1=-0.3947368421052629 v2=-0.26315789473684187\n",
      "Iteration 136 v1=-0.394736842105263 v2=-0.2631578947368419\n",
      "Iteration 137 v1=-0.394736842105263 v2=-0.263157894736842\n"
     ]
    }
   ],
   "source": [
    "#  init the state value function\n",
    "v1=v2 = 0\n",
    "\n",
    "v1_pre=v2_pre = -1.\n",
    "i=0\n",
    "while(v1!=v1_pre or v2!=v2_pre):\n",
    "    i+=1 \n",
    "    v1_pre = v1\n",
    "    v2_pre = v2\n",
    "    print(f'Iteration {i} v1={v1} v2={v2}')\n",
    "    v1 = np.max([v1_a1(v1,v2),v1_a2(v1,v2)])\n",
    "    v2 = np.max([v2_a1(v1,v2),v2_a2(v1,v2)])\n",
    "   "
   ]
  },
  {
   "cell_type": "code",
   "execution_count": 8,
   "id": "ee7130b9",
   "metadata": {},
   "outputs": [
    {
     "data": {
      "text/plain": [
       "(-0.6842105263157894,\n",
       " -0.394736842105263,\n",
       " -0.7802631578947367,\n",
       " -0.263157894736842)"
      ]
     },
     "execution_count": 8,
     "metadata": {},
     "output_type": "execute_result"
    }
   ],
   "source": [
    "(v1_a1(v1,v2),\n",
    "v1_a2(v1,v2),\n",
    "v2_a1(v1,v2),\n",
    "v2_a2(v1,v2),\n",
    ")\n"
   ]
  },
  {
   "cell_type": "code",
   "execution_count": 9,
   "id": "ca636665",
   "metadata": {},
   "outputs": [
    {
     "name": "stdout",
     "output_type": "stream",
     "text": [
      "optimal policy for state 1 is A2\n",
      "optimal policy for state 2 is A2\n"
     ]
    }
   ],
   "source": [
    "optPs1 = \"A1\" if v1_a1(v1,v2) > v1_a2(v1,v2) else \"A2\" \n",
    "optPs2 = \"A1\" if v2_a1(v1,v2) > v2_a2(v1,v2) else \"A2\"\n",
    "\n",
    "print(f'optimal policy for state 1 is {optPs1}')\n",
    "print(f'optimal policy for state 2 is {optPs2}')"
   ]
  }
 ],
 "metadata": {
  "kernelspec": {
   "display_name": "Python 3 (ipykernel)",
   "language": "python",
   "name": "python3"
  },
  "language_info": {
   "codemirror_mode": {
    "name": "ipython",
    "version": 3
   },
   "file_extension": ".py",
   "mimetype": "text/x-python",
   "name": "python",
   "nbconvert_exporter": "python",
   "pygments_lexer": "ipython3",
   "version": "3.8.18"
  }
 },
 "nbformat": 4,
 "nbformat_minor": 5
}
