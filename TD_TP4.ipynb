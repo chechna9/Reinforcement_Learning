{
 "cells": [
  {
   "cell_type": "code",
   "execution_count": 99,
   "metadata": {},
   "outputs": [],
   "source": [
    "import numpy as np\n",
    "import matplotlib.pyplot as plt\n",
    "import random\n"
   ]
  },
  {
   "cell_type": "code",
   "execution_count": 100,
   "metadata": {},
   "outputs": [],
   "source": [
    "def reset():\n",
    "#     maze = np.array([\n",
    "#     [0, 1, 0, 0, 0, 0, 0, 0],\n",
    "#     [0, 1, 0, 1, 0, 1, 0, 0],\n",
    "#     [0, 0, 0, 1, 1, 0, 1, 0],\n",
    "#     [0, 1, 0, 1, 0, 0, 0, 0],\n",
    "#     [1, 0, 0, 1, 0, 1, 0, 0],\n",
    "#     [0, 0, 0, 1, 0, 1, 1, 1],\n",
    "#     [0, 1, 1, 0, 0, 0, 0, 0],\n",
    "#     [0, 0, 0, 0, 0, 1, 0, 0]\n",
    "# ])\n",
    "    maze = np.array([\n",
    "        [0, 1, 0, 0],\n",
    "        [0, 1, 0, 1],\n",
    "        [0, 0, 0, 1],\n",
    "        [0, 1, 0, 0],\n",
    "    ])\n",
    "    nrows, ncols = maze.shape\n",
    "    start_cell= (0,0) # start_cell\n",
    "    exit_cell=(nrows-1,ncols-1)\n",
    "    time_limit=100\n",
    "    return maze, nrows, ncols, start_cell,exit_cell,time_limit\n",
    "\n",
    "maze, nrows, ncols, start_state,exit_state,time_limit=reset()\n",
    "walls = np.argwhere(maze == 1)\n",
    "actions = [up,down,left,right] = [0, 1, 2, 3]\n",
    "nA=len(actions)\n",
    "gamma=0.7\n",
    "num_episodes=1000\n",
    "epsilon=0.9"
   ]
  },
  {
   "cell_type": "code",
   "execution_count": 101,
   "metadata": {},
   "outputs": [
    {
     "data": {
      "image/png": "[encoded data removed]",
      "text/plain": [
       "<Figure size 640x480 with 1 Axes>"
      ]
     },
     "metadata": {},
     "output_type": "display_data"
    }
   ],
   "source": [
    "def maze_render():\n",
    "    _, ax2 =plt.subplots()\n",
    "    ax2.set_xticks(np.arange(0.5, nrows, step=1))\n",
    "    ax2.set_xticklabels([])\n",
    "    ax2.set_yticks(np.arange(0.5, ncols, step=1))\n",
    "    ax2.set_yticklabels([])\n",
    "    ax2.grid(True)\n",
    "\n",
    "    ax2.plot(*reversed(start_state), \"s\", markersize=30)  \n",
    "    ax2.text(*reversed(start_state), \"start\", ha=\"center\", va=\"center\", color=\"white\")\n",
    "\n",
    "    ax2.plot(*reversed(exit_state), \"gs\", markersize=30)  # exit is a big green square\n",
    "    ax2.text(*reversed(exit_state), \"Exit\", ha=\"center\", va=\"center\", color=\"white\")\n",
    "\n",
    "    ax2.imshow(maze, cmap=\"binary\")\n",
    "    ax2.get_figure().canvas.draw()\n",
    "maze_render()"
   ]
  },
  {
   "cell_type": "code",
   "execution_count": 102,
   "metadata": {},
   "outputs": [
    {
     "data": {
      "image/png": "[encoded data removed]",
      "text/plain": [
       "<Figure size 640x480 with 1 Axes>"
      ]
     },
     "metadata": {},
     "output_type": "display_data"
    }
   ],
   "source": [
    "def render_policy(policy):\n",
    "    _, ax2 =plt.subplots()\n",
    "    ax2.set_xticks(np.arange(0.5, nrows, step=1))\n",
    "    ax2.set_xticklabels([])\n",
    "    ax2.set_yticks(np.arange(0.5, ncols, step=1))\n",
    "    ax2.set_yticklabels([])\n",
    "    ax2.grid(True)\n",
    "\n",
    "    # \"bs\" -> blue square\n",
    "    # \"gs\" -> green square\n",
    "    ax2.plot(*start_state, \"s\", markersize=30)  \n",
    "    ax2.text(*start_state, \"start\", ha=\"center\", va=\"center\", color=\"white\")\n",
    "\n",
    "    ax2.plot(*exit_state, \"gs\", markersize=30)  # exit is a big green square\n",
    "    ax2.text(*exit_state, \"Exit\", ha=\"center\", va=\"center\", color=\"white\")\n",
    "\n",
    "    # render q-value\n",
    "    free_cells = [(row, col)  for row in range(nrows) for col in range(ncols) if maze[row][col] == 0]\n",
    "    \n",
    "    for cell in free_cells:\n",
    "        pi_a = policy[cell]\n",
    "         \n",
    "        a=[pi_a]if type(pi_a) is np.int64 else  np.nonzero(pi_a == np.max(pi_a))[0] # check if policy is deterministic or stochastic\n",
    "        \n",
    "        if type(policy[cell]) is np.int64:\n",
    "            dx = 0\n",
    "            dy = 0\n",
    "            if policy[cell] == 0:\n",
    "                dy = -0.2\n",
    "            if policy[cell] == 1:\n",
    "                dy = 0.2\n",
    "            if policy[cell] == 2:\n",
    "                dx = -0.2\n",
    "            if policy[cell] == 3:\n",
    "                dx = 0.2\n",
    "            ax2.arrow(cell[1],cell[0], dx, dy, color=\"red\", head_width=0.1, head_length=0.1)\n",
    "        else:\n",
    "            for (i,value) in enumerate(policy[cell]):\n",
    "                dx = 0\n",
    "                dy = 0\n",
    "                if i == 0:\n",
    "                    dy = -0.5*value\n",
    "                if i == 1:\n",
    "                    dy = 0.5*value\n",
    "                if i == 2:\n",
    "                    dx = -0.5*value\n",
    "                if i == 3:\n",
    "                    dx = 0.5*value\n",
    "\n",
    "                # *cell are the starting coordinates of the arrow.\n",
    "                # dx and dy are the arrow's length and direction.\n",
    "                ax2.arrow(cell[1],cell[0], dx, dy, color=\"red\", head_width=0.1, head_length=0.1)\n",
    "                #actions = [up, down, left, right] = [0,1,2,3]\n",
    "    ax2.imshow(maze, cmap=\"binary\")\n",
    "    ax2.get_figure().canvas.draw()\n",
    "\n",
    "\n",
    "policy1=np.full((nrows,ncols,nA), 1/nA)\n",
    "render_policy(policy1)"
   ]
  },
  {
   "cell_type": "code",
   "execution_count": 103,
   "metadata": {},
   "outputs": [],
   "source": [
    "def render_value(V):\n",
    "    plt.imshow(V, cmap='Greys')  \n",
    "    for i in range(nrows):\n",
    "        for j in range (ncols):\n",
    "            plt.text(j, i, f'{V[i, j]}', ha='center', va='center', color='r', fontsize=10)\n",
    "    plt.xticks([]) # Hide the x-axis values\n",
    "    plt.yticks([]) # Hide the y-axis values\n",
    "    plt.show() \n"
   ]
  },
  {
   "cell_type": "code",
   "execution_count": 104,
   "metadata": {},
   "outputs": [],
   "source": [
    "def isValideState(state):\n",
    "    return state  in walls or state[0] < nrows and state[0] >= 0 and state[1] < ncols and state[1] >= 0"
   ]
  },
  {
   "cell_type": "code",
   "execution_count": 105,
   "metadata": {},
   "outputs": [],
   "source": [
    "def move(state,action):\n",
    "    if action == up:\n",
    "        return (state[0]-1,state[1])\n",
    "    if action == down:\n",
    "        return (state[0]+1,state[1])\n",
    "    if action == left:\n",
    "        return (state[0],state[1]-1)\n",
    "    if action == right:\n",
    "        return (state[0],state[1]+1)"
   ]
  },
  {
   "cell_type": "code",
   "execution_count": 106,
   "metadata": {},
   "outputs": [],
   "source": [
    "def getReward(state, action):\n",
    "    new_state = move(state, action)\n",
    "    if isValideState(new_state):\n",
    "        return -10\n",
    "    elif new_state == exit_state:\n",
    "        return 50\n",
    "    else:\n",
    "        return -1"
   ]
  },
  {
   "cell_type": "code",
   "execution_count": 107,
   "metadata": {},
   "outputs": [],
   "source": [
    "def step(state,action):\n",
    "    \"\"\"_summary_\n",
    "\n",
    "    Args:\n",
    "        state (_type_): (x,y)\n",
    "\n",
    "    Returns:\n",
    "        tuple: (next_state, reward, done)\n",
    "    \"\"\"\n",
    "    newState = move(state, action)\n",
    "    if isValideState(newState):\n",
    "        nextState = state\n",
    "    else:\n",
    "        nextState = newState\n",
    "    return nextState,getReward(state, action),nextState == exit_state"
   ]
  },
  {
   "cell_type": "markdown",
   "metadata": {},
   "source": [
    "## First-Visit MC prediction for prediction"
   ]
  },
  {
   "cell_type": "code",
   "execution_count": 108,
   "metadata": {},
   "outputs": [],
   "source": [
    "def displayAction(action):\n",
    "    if action == up:\n",
    "        print(\"↑\",end=\"\")\n",
    "    elif action == down:\n",
    "        print(\"↓\",end=\"\")\n",
    "    elif action == left:\n",
    "        print(\"←\",end=\"\")\n",
    "    elif action == right:\n",
    "        print(\"→\",end=\"\")\n",
    "def displayTraj(trajectory):\n",
    "    print(\"\\nTrajectory : \",end=\"\")\n",
    "    for i in trajectory:\n",
    "        displayAction(i[1])"
   ]
  },
  {
   "cell_type": "code",
   "execution_count": 109,
   "metadata": {},
   "outputs": [],
   "source": [
    "def selectAction(state,policy):\n",
    "    if random.uniform(0, 1) < epsilon:\n",
    "        return random.choice(actions)\n",
    "    else:\n",
    "        return np.argmax(policy[state])"
   ]
  },
  {
   "cell_type": "code",
   "execution_count": 110,
   "metadata": {},
   "outputs": [],
   "source": [
    "def getTrajectory(policy,initState=(0,0),showAction=False):\n",
    "    \"\"\"_summary_\n",
    "\n",
    "    Args:\n",
    "        policy : policy to follow\n",
    "        initState: the initial state of the trajectory\n",
    "\n",
    "    Returns:\n",
    "        trajectory: list of tuple (nextState,action,reward)\n",
    "    \"\"\"\n",
    "    state = initState if isValideState(initState) else (0,0)\n",
    "    trajectory = []\n",
    "    done = False\n",
    "    time_step = 0\n",
    "    while not done:\n",
    "        action = selectAction(state,policy)\n",
    "        time_step += 1\n",
    "        if showAction:\n",
    "            displayAction(action)\n",
    "        nextState,reward,win = step(state,action)\n",
    "        trajectory.append((state,action,reward))\n",
    "        state = nextState\n",
    "        done = win or time_limit == time_step\n",
    "    return trajectory"
   ]
  },
  {
   "cell_type": "code",
   "execution_count": 111,
   "metadata": {},
   "outputs": [
    {
     "ename": "IndexError",
     "evalue": "index -6 is out of bounds for axis 1 with size 4",
     "output_type": "error",
     "traceback": [
      "\u001b[1;31m---------------------------------------------------------------------------\u001b[0m",
      "\u001b[1;31mIndexError\u001b[0m                                Traceback (most recent call last)",
      "\u001b[1;32md:\\Study\\3CS\\RL\\TD_TP\\TD_TP4.ipynb Cell 14\u001b[0m line \u001b[0;36m1\n\u001b[1;32m----> <a href='vscode-notebook-cell:/d%3A/Study/3CS/RL/TD_TP/TD_TP4.ipynb#X30sZmlsZQ%3D%3D?line=0'>1</a>\u001b[0m traj \u001b[39m=\u001b[39m getTrajectory(policy1)\n\u001b[0;32m      <a href='vscode-notebook-cell:/d%3A/Study/3CS/RL/TD_TP/TD_TP4.ipynb#X30sZmlsZQ%3D%3D?line=1'>2</a>\u001b[0m traj\n",
      "\u001b[1;32md:\\Study\\3CS\\RL\\TD_TP\\TD_TP4.ipynb Cell 14\u001b[0m line \u001b[0;36m1\n\u001b[0;32m     <a href='vscode-notebook-cell:/d%3A/Study/3CS/RL/TD_TP/TD_TP4.ipynb#X30sZmlsZQ%3D%3D?line=13'>14</a>\u001b[0m time_step \u001b[39m=\u001b[39m \u001b[39m0\u001b[39m\n\u001b[0;32m     <a href='vscode-notebook-cell:/d%3A/Study/3CS/RL/TD_TP/TD_TP4.ipynb#X30sZmlsZQ%3D%3D?line=14'>15</a>\u001b[0m \u001b[39mwhile\u001b[39;00m \u001b[39mnot\u001b[39;00m done:\n\u001b[1;32m---> <a href='vscode-notebook-cell:/d%3A/Study/3CS/RL/TD_TP/TD_TP4.ipynb#X30sZmlsZQ%3D%3D?line=15'>16</a>\u001b[0m     action \u001b[39m=\u001b[39m selectAction(state,policy)\n\u001b[0;32m     <a href='vscode-notebook-cell:/d%3A/Study/3CS/RL/TD_TP/TD_TP4.ipynb#X30sZmlsZQ%3D%3D?line=16'>17</a>\u001b[0m     time_step \u001b[39m+\u001b[39m\u001b[39m=\u001b[39m \u001b[39m1\u001b[39m\n\u001b[0;32m     <a href='vscode-notebook-cell:/d%3A/Study/3CS/RL/TD_TP/TD_TP4.ipynb#X30sZmlsZQ%3D%3D?line=17'>18</a>\u001b[0m     \u001b[39mif\u001b[39;00m showAction:\n",
      "\u001b[1;32md:\\Study\\3CS\\RL\\TD_TP\\TD_TP4.ipynb Cell 14\u001b[0m line \u001b[0;36m5\n\u001b[0;32m      <a href='vscode-notebook-cell:/d%3A/Study/3CS/RL/TD_TP/TD_TP4.ipynb#X30sZmlsZQ%3D%3D?line=2'>3</a>\u001b[0m     \u001b[39mreturn\u001b[39;00m random\u001b[39m.\u001b[39mchoice(actions)\n\u001b[0;32m      <a href='vscode-notebook-cell:/d%3A/Study/3CS/RL/TD_TP/TD_TP4.ipynb#X30sZmlsZQ%3D%3D?line=3'>4</a>\u001b[0m \u001b[39melse\u001b[39;00m:\n\u001b[1;32m----> <a href='vscode-notebook-cell:/d%3A/Study/3CS/RL/TD_TP/TD_TP4.ipynb#X30sZmlsZQ%3D%3D?line=4'>5</a>\u001b[0m     \u001b[39mreturn\u001b[39;00m np\u001b[39m.\u001b[39margmax(policy[state])\n",
      "\u001b[1;31mIndexError\u001b[0m: index -6 is out of bounds for axis 1 with size 4"
     ]
    }
   ],
   "source": [
    "traj = getTrajectory(policy1)\n",
    "traj"
   ]
  },
  {
   "cell_type": "code",
   "execution_count": null,
   "metadata": {},
   "outputs": [],
   "source": []
  },
  {
   "cell_type": "code",
   "execution_count": 112,
   "metadata": {},
   "outputs": [],
   "source": [
    "def getFirstVisitReturn(trajectory,returns):\n",
    "    \"\"\"_summary_\n",
    "    get return acording to the first visit monte carlo method\n",
    "    Args:\n",
    "        trajectory: state action newstate\n",
    "        returns : dict of state and list of return\n",
    "\n",
    "    Returns:\n",
    "        the updated returns\n",
    "    \"\"\"\n",
    "    G = 0\n",
    "    for index,sar in enumerate(reversed(trajectory)):\n",
    "        s,a,r = sar\n",
    "        G = r + gamma * G\n",
    "        isFirstVisit = s not in [triple[0] for triple in trajectory[:-index-1]]\n",
    "        if s not in returns and isFirstVisit:\n",
    "            returns[s] = [G]\n",
    "        elif isFirstVisit :\n",
    "            returns[s].append(G)\n",
    "    return returns"
   ]
  },
  {
   "cell_type": "code",
   "execution_count": null,
   "metadata": {},
   "outputs": [
    {
     "data": {
      "text/plain": [
       "[]"
      ]
     },
     "execution_count": 65,
     "metadata": {},
     "output_type": "execute_result"
    }
   ],
   "source": [
    "a = [1,2,3,4]\n",
    "a[:0]"
   ]
  },
  {
   "cell_type": "code",
   "execution_count": 113,
   "metadata": {},
   "outputs": [],
   "source": [
    "def monteCarloPolicyEvaluation(policy,numberEpisodes):\n",
    "    value_function=np.zeros((nrows,ncols))\n",
    "    returns = {}\n",
    "    for i in range(numberEpisodes):\n",
    "        trajectory = getTrajectory(policy)\n",
    "        # getting the returns for each state\n",
    "        returns = getFirstVisitReturn(trajectory,returns)\n",
    "        \n",
    "    # calculating the mean of the returns for each state which is the value function\n",
    "    for i in range(nrows):\n",
    "        for j in range (ncols):\n",
    "            if (i,j) in returns:\n",
    "                value_function[(i,j)] = np.round(np.mean(returns[(i,j)]), 2)  # rounds the  mean two decimal places\n",
    "    return value_function"
   ]
  },
  {
   "cell_type": "code",
   "execution_count": 114,
   "metadata": {},
   "outputs": [
    {
     "ename": "IndexError",
     "evalue": "index -5 is out of bounds for axis 1 with size 4",
     "output_type": "error",
     "traceback": [
      "\u001b[1;31m---------------------------------------------------------------------------\u001b[0m",
      "\u001b[1;31mIndexError\u001b[0m                                Traceback (most recent call last)",
      "\u001b[1;32md:\\Study\\3CS\\RL\\TD_TP\\TD_TP4.ipynb Cell 19\u001b[0m line \u001b[0;36m1\n\u001b[1;32m----> <a href='vscode-notebook-cell:/d%3A/Study/3CS/RL/TD_TP/TD_TP4.ipynb#X24sZmlsZQ%3D%3D?line=0'>1</a>\u001b[0m vf \u001b[39m=\u001b[39m monteCarloPolicyEvaluation(policy1,\u001b[39m1000\u001b[39;49m)\n",
      "\u001b[1;32md:\\Study\\3CS\\RL\\TD_TP\\TD_TP4.ipynb Cell 19\u001b[0m line \u001b[0;36m5\n\u001b[0;32m      <a href='vscode-notebook-cell:/d%3A/Study/3CS/RL/TD_TP/TD_TP4.ipynb#X24sZmlsZQ%3D%3D?line=2'>3</a>\u001b[0m returns \u001b[39m=\u001b[39m {}\n\u001b[0;32m      <a href='vscode-notebook-cell:/d%3A/Study/3CS/RL/TD_TP/TD_TP4.ipynb#X24sZmlsZQ%3D%3D?line=3'>4</a>\u001b[0m \u001b[39mfor\u001b[39;00m i \u001b[39min\u001b[39;00m \u001b[39mrange\u001b[39m(numberEpisodes):\n\u001b[1;32m----> <a href='vscode-notebook-cell:/d%3A/Study/3CS/RL/TD_TP/TD_TP4.ipynb#X24sZmlsZQ%3D%3D?line=4'>5</a>\u001b[0m     trajectory \u001b[39m=\u001b[39m getTrajectory(policy)\n\u001b[0;32m      <a href='vscode-notebook-cell:/d%3A/Study/3CS/RL/TD_TP/TD_TP4.ipynb#X24sZmlsZQ%3D%3D?line=5'>6</a>\u001b[0m     \u001b[39m# getting the returns for each state\u001b[39;00m\n\u001b[0;32m      <a href='vscode-notebook-cell:/d%3A/Study/3CS/RL/TD_TP/TD_TP4.ipynb#X24sZmlsZQ%3D%3D?line=6'>7</a>\u001b[0m     returns \u001b[39m=\u001b[39m getFirstVisitReturn(trajectory,returns)\n",
      "\u001b[1;32md:\\Study\\3CS\\RL\\TD_TP\\TD_TP4.ipynb Cell 19\u001b[0m line \u001b[0;36m1\n\u001b[0;32m     <a href='vscode-notebook-cell:/d%3A/Study/3CS/RL/TD_TP/TD_TP4.ipynb#X24sZmlsZQ%3D%3D?line=13'>14</a>\u001b[0m time_step \u001b[39m=\u001b[39m \u001b[39m0\u001b[39m\n\u001b[0;32m     <a href='vscode-notebook-cell:/d%3A/Study/3CS/RL/TD_TP/TD_TP4.ipynb#X24sZmlsZQ%3D%3D?line=14'>15</a>\u001b[0m \u001b[39mwhile\u001b[39;00m \u001b[39mnot\u001b[39;00m done:\n\u001b[1;32m---> <a href='vscode-notebook-cell:/d%3A/Study/3CS/RL/TD_TP/TD_TP4.ipynb#X24sZmlsZQ%3D%3D?line=15'>16</a>\u001b[0m     action \u001b[39m=\u001b[39m selectAction(state,policy)\n\u001b[0;32m     <a href='vscode-notebook-cell:/d%3A/Study/3CS/RL/TD_TP/TD_TP4.ipynb#X24sZmlsZQ%3D%3D?line=16'>17</a>\u001b[0m     time_step \u001b[39m+\u001b[39m\u001b[39m=\u001b[39m \u001b[39m1\u001b[39m\n\u001b[0;32m     <a href='vscode-notebook-cell:/d%3A/Study/3CS/RL/TD_TP/TD_TP4.ipynb#X24sZmlsZQ%3D%3D?line=17'>18</a>\u001b[0m     \u001b[39mif\u001b[39;00m showAction:\n",
      "\u001b[1;32md:\\Study\\3CS\\RL\\TD_TP\\TD_TP4.ipynb Cell 19\u001b[0m line \u001b[0;36m5\n\u001b[0;32m      <a href='vscode-notebook-cell:/d%3A/Study/3CS/RL/TD_TP/TD_TP4.ipynb#X24sZmlsZQ%3D%3D?line=2'>3</a>\u001b[0m     \u001b[39mreturn\u001b[39;00m random\u001b[39m.\u001b[39mchoice(actions)\n\u001b[0;32m      <a href='vscode-notebook-cell:/d%3A/Study/3CS/RL/TD_TP/TD_TP4.ipynb#X24sZmlsZQ%3D%3D?line=3'>4</a>\u001b[0m \u001b[39melse\u001b[39;00m:\n\u001b[1;32m----> <a href='vscode-notebook-cell:/d%3A/Study/3CS/RL/TD_TP/TD_TP4.ipynb#X24sZmlsZQ%3D%3D?line=4'>5</a>\u001b[0m     \u001b[39mreturn\u001b[39;00m np\u001b[39m.\u001b[39margmax(policy[state])\n",
      "\u001b[1;31mIndexError\u001b[0m: index -5 is out of bounds for axis 1 with size 4"
     ]
    }
   ],
   "source": [
    "vf = monteCarloPolicyEvaluation(policy1,1000)"
   ]
  },
  {
   "cell_type": "code",
   "execution_count": null,
   "metadata": {},
   "outputs": [
    {
     "data": {
      "image/png": "[encoded data removed]",
      "text/plain": [
       "<Figure size 640x480 with 1 Axes>"
      ]
     },
     "metadata": {},
     "output_type": "display_data"
    }
   ],
   "source": [
    "render_value(vf)"
   ]
  }
 ],
 "metadata": {
  "kernelspec": {
   "display_name": "Ai_env",
   "language": "python",
   "name": "python3"
  },
  "language_info": {
   "codemirror_mode": {
    "name": "ipython",
    "version": 3
   },
   "file_extension": ".py",
   "mimetype": "text/x-python",
   "name": "python",
   "nbconvert_exporter": "python",
   "pygments_lexer": "ipython3",
   "version": "3.8.18"
  }
 },
 "nbformat": 4,
 "nbformat_minor": 2
}
